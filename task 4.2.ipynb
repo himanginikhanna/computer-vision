{
 "cells": [
  {
   "cell_type": "code",
   "execution_count": 1,
   "id": "f9330b43",
   "metadata": {},
   "outputs": [],
   "source": [
    "import numpy \n",
    "import cv2"
   ]
  },
  {
   "cell_type": "code",
   "execution_count": 40,
   "id": "993c08fd",
   "metadata": {},
   "outputs": [],
   "source": [
    "A = cv2.imread(\"scenery1.jpeg\") "
   ]
  },
  {
   "cell_type": "code",
   "execution_count": 41,
   "id": "b502959d",
   "metadata": {},
   "outputs": [
    {
     "data": {
      "text/plain": [
       "(177, 284, 3)"
      ]
     },
     "execution_count": 41,
     "metadata": {},
     "output_type": "execute_result"
    }
   ],
   "source": [
    "A.shape "
   ]
  },
  {
   "cell_type": "code",
   "execution_count": 62,
   "id": "38662734",
   "metadata": {},
   "outputs": [],
   "source": [
    "B = cv2.imread(\"scenery2.jpg\") "
   ]
  },
  {
   "cell_type": "code",
   "execution_count": 45,
   "id": "4267265f",
   "metadata": {},
   "outputs": [
    {
     "data": {
      "text/plain": [
       "(250, 400, 3)"
      ]
     },
     "execution_count": 45,
     "metadata": {},
     "output_type": "execute_result"
    }
   ],
   "source": [
    "B.shape "
   ]
  },
  {
   "cell_type": "code",
   "execution_count": 49,
   "id": "f4206943",
   "metadata": {},
   "outputs": [],
   "source": [
    "a1=cv2.resize(A, (150, 250) )\n"
   ]
  },
  {
   "cell_type": "code",
   "execution_count": 48,
   "id": "7b813701",
   "metadata": {},
   "outputs": [],
   "source": [
    "b1=cv2.resize(B, (150, 250) )"
   ]
  },
  {
   "cell_type": "code",
   "execution_count": 50,
   "id": "f9f42904",
   "metadata": {},
   "outputs": [
    {
     "data": {
      "text/plain": [
       "(250, 150, 3)"
      ]
     },
     "execution_count": 50,
     "metadata": {},
     "output_type": "execute_result"
    }
   ],
   "source": [
    "a1.shape"
   ]
  },
  {
   "cell_type": "code",
   "execution_count": 51,
   "id": "617c6000",
   "metadata": {},
   "outputs": [
    {
     "data": {
      "text/plain": [
       "(250, 150, 3)"
      ]
     },
     "execution_count": 51,
     "metadata": {},
     "output_type": "execute_result"
    }
   ],
   "source": [
    "b1.shape"
   ]
  },
  {
   "cell_type": "code",
   "execution_count": 52,
   "id": "b4441d07",
   "metadata": {},
   "outputs": [],
   "source": [
    "cv2.imshow(\"A\",a1 )\n",
    "cv2.waitKey()\n",
    "cv2.destroyAllWindows()"
   ]
  },
  {
   "cell_type": "code",
   "execution_count": 63,
   "id": "6954829a",
   "metadata": {},
   "outputs": [],
   "source": [
    "cv2.imshow(\"B\",b1 )\n",
    "cv2.waitKey()\n",
    "cv2.destroyAllWindows()"
   ]
  },
  {
   "cell_type": "code",
   "execution_count": 54,
   "id": "9a07c42e",
   "metadata": {},
   "outputs": [],
   "source": [
    "croppedA= a1[:, 0:150] \n",
    "cv2.imshow(\"A Croppped\", croppedA)\n",
    "cv2.waitKey()\n",
    "cv2.destroyAllWindows()"
   ]
  },
  {
   "cell_type": "code",
   "execution_count": 61,
   "id": "42687908",
   "metadata": {},
   "outputs": [],
   "source": [
    "croppedB= b1[ :, 0:150] \n",
    "cv2.imshow(\"B Croppped\", croppedA)\n",
    "cv2.waitKey()\n",
    "cv2.destroyAllWindows()"
   ]
  },
  {
   "cell_type": "code",
   "execution_count": 64,
   "id": "963c3b39",
   "metadata": {},
   "outputs": [],
   "source": [
    "swapped= numpy.hstack((croppedA, croppedB))\n"
   ]
  },
  {
   "cell_type": "code",
   "execution_count": 65,
   "id": "25f03f16",
   "metadata": {},
   "outputs": [],
   "source": [
    "cv2.imshow(\"Swappaed and Merged 1\", swapped)\n",
    "cv2.waitKey()\n",
    "cv2.destroyAllWindows()"
   ]
  },
  {
   "cell_type": "code",
   "execution_count": 69,
   "id": "b8636c83",
   "metadata": {},
   "outputs": [],
   "source": [
    "croppedB= b1[:, 10:150 ] \n"
   ]
  },
  {
   "cell_type": "code",
   "execution_count": 75,
   "id": "28df69dd",
   "metadata": {},
   "outputs": [],
   "source": [
    "croppedA= a1[:, 10:150] \n"
   ]
  },
  {
   "cell_type": "code",
   "execution_count": 79,
   "id": "8b0f38de",
   "metadata": {},
   "outputs": [],
   "source": [
    "swapped2= numpy.hstack([croppedB, croppedA])"
   ]
  },
  {
   "cell_type": "code",
   "execution_count": 80,
   "id": "6659b528",
   "metadata": {},
   "outputs": [],
   "source": [
    "cv2.imshow(\"Both swapped\", swapped2)\n",
    "cv2.waitKey()\n",
    "cv2.destroyAllWindows()"
   ]
  },
  {
   "cell_type": "code",
   "execution_count": null,
   "id": "930f9a03",
   "metadata": {},
   "outputs": [],
   "source": []
  }
 ],
 "metadata": {
  "kernelspec": {
   "display_name": "Python 3",
   "language": "python",
   "name": "python3"
  },
  "language_info": {
   "codemirror_mode": {
    "name": "ipython",
    "version": 3
   },
   "file_extension": ".py",
   "mimetype": "text/x-python",
   "name": "python",
   "nbconvert_exporter": "python",
   "pygments_lexer": "ipython3",
   "version": "3.8.3"
  }
 },
 "nbformat": 4,
 "nbformat_minor": 5
}
