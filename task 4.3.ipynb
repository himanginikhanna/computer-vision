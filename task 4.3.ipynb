{
 "cells": [
  {
   "cell_type": "code",
   "execution_count": 1,
   "id": "91b02554",
   "metadata": {},
   "outputs": [],
   "source": [
    "import cv2\n",
    "import numpy"
   ]
  },
  {
   "cell_type": "code",
   "execution_count": 2,
   "id": "1a81af83",
   "metadata": {},
   "outputs": [],
   "source": [
    "m1 = cv2.imread(\"minion.jpg\") \n"
   ]
  },
  {
   "cell_type": "code",
   "execution_count": 3,
   "id": "044ddbe8",
   "metadata": {},
   "outputs": [],
   "source": [
    "m2 = cv2.imread(\"minion2.jpg\") "
   ]
  },
  {
   "cell_type": "code",
   "execution_count": 4,
   "id": "28f96c2d",
   "metadata": {},
   "outputs": [
    {
     "data": {
      "text/plain": [
       "(381, 728, 3)"
      ]
     },
     "execution_count": 4,
     "metadata": {},
     "output_type": "execute_result"
    }
   ],
   "source": [
    "m1.shape"
   ]
  },
  {
   "cell_type": "code",
   "execution_count": 5,
   "id": "3deab7bc",
   "metadata": {},
   "outputs": [
    {
     "data": {
      "text/plain": [
       "(288, 512, 3)"
      ]
     },
     "execution_count": 5,
     "metadata": {},
     "output_type": "execute_result"
    }
   ],
   "source": [
    "m2.shape"
   ]
  },
  {
   "cell_type": "code",
   "execution_count": 6,
   "id": "4f107b02",
   "metadata": {},
   "outputs": [],
   "source": [
    "m = cv2.resize(m1,(512,288))"
   ]
  },
  {
   "cell_type": "code",
   "execution_count": 7,
   "id": "c80b290f",
   "metadata": {},
   "outputs": [],
   "source": [
    "cv2.imshow(\"m1\", m)\n",
    "cv2.waitKey()\n",
    "cv2.destroyAllWindows()"
   ]
  },
  {
   "cell_type": "code",
   "execution_count": 8,
   "id": "64a53dda",
   "metadata": {},
   "outputs": [
    {
     "data": {
      "text/plain": [
       "(288, 512, 3)"
      ]
     },
     "execution_count": 8,
     "metadata": {},
     "output_type": "execute_result"
    }
   ],
   "source": [
    "m.shape"
   ]
  },
  {
   "cell_type": "code",
   "execution_count": 9,
   "id": "c0a6cd7f",
   "metadata": {
    "scrolled": true
   },
   "outputs": [],
   "source": [
    "cv2.imshow(\"m2\", m2)\n",
    "cv2.waitKey()\n",
    "cv2.destroyAllWindows()\n"
   ]
  },
  {
   "cell_type": "code",
   "execution_count": 10,
   "id": "4bb1a7f5",
   "metadata": {},
   "outputs": [
    {
     "data": {
      "text/plain": [
       "(288, 512, 3)"
      ]
     },
     "execution_count": 10,
     "metadata": {},
     "output_type": "execute_result"
    }
   ],
   "source": [
    "m2.shape"
   ]
  },
  {
   "cell_type": "code",
   "execution_count": 11,
   "id": "96d4f10a",
   "metadata": {},
   "outputs": [],
   "source": [
    "merge = numpy.hstack([m2, m])"
   ]
  },
  {
   "cell_type": "code",
   "execution_count": null,
   "id": "28ad9661",
   "metadata": {},
   "outputs": [],
   "source": [
    "cv2.imshow(\"merge\", merge)\n",
    "cv2.waitKey()\n",
    "cv2.destroyAllWindows()"
   ]
  },
  {
   "cell_type": "code",
   "execution_count": null,
   "id": "b102de6f",
   "metadata": {},
   "outputs": [],
   "source": []
  }
 ],
 "metadata": {
  "kernelspec": {
   "display_name": "Python 3",
   "language": "python",
   "name": "python3"
  },
  "language_info": {
   "codemirror_mode": {
    "name": "ipython",
    "version": 3
   },
   "file_extension": ".py",
   "mimetype": "text/x-python",
   "name": "python",
   "nbconvert_exporter": "python",
   "pygments_lexer": "ipython3",
   "version": "3.8.3"
  }
 },
 "nbformat": 4,
 "nbformat_minor": 5
}
